{
 "cells": [
  {
   "cell_type": "markdown",
   "id": "bd836333",
   "metadata": {},
   "source": [
    "# Finpros Online Testing PNJ"
   ]
  },
  {
   "cell_type": "markdown",
   "id": "64841f4c",
   "metadata": {},
   "source": [
    "Author: Duong Huu Khoi\\\n",
    "Date: 24/02/2024\\\n",
    "Version: 5.0"
   ]
  },
  {
   "cell_type": "markdown",
   "id": "14df2ae3",
   "metadata": {},
   "source": [
    "## Import Libraries and Get Dataset "
   ]
  },
  {
   "cell_type": "code",
   "execution_count": null,
   "id": "a4489168",
   "metadata": {},
   "outputs": [],
   "source": [
    "# Import Libraries\n",
    "import math\n",
    "import pandas as pd\n",
    "import numpy as np \n",
    "import matplotlib.pyplot as plt\n",
    "from sklearn.preprocessing import MinMaxScaler\n",
    "from keras.models import Sequential \n",
    "from keras.layers import Dense, LSTM\n",
    "from sklearn.metrics import mean_squared_error, r2_score, mean_absolute_error"
   ]
  },
  {
   "cell_type": "code",
   "execution_count": null,
   "id": "eee190a9",
   "metadata": {},
   "outputs": [],
   "source": [
    "# Get the dataset\n",
    "df = pd.read_csv('PNJ.csv')\n",
    "df.head()"
   ]
  },
  {
   "cell_type": "markdown",
   "id": "866aec12",
   "metadata": {},
   "source": [
    "## Preparing Dataset"
   ]
  },
  {
   "cell_type": "code",
   "execution_count": null,
   "id": "8011ba6a",
   "metadata": {},
   "outputs": [],
   "source": [
    "#Check dataframe shape and empty values\n",
    "print('Dataframe shape:',df.shape)\n",
    "print('Null values:',df.isnull().values.any())"
   ]
  },
  {
   "cell_type": "code",
   "execution_count": null,
   "id": "3964bfed",
   "metadata": {},
   "outputs": [],
   "source": [
    "#Set index to Date/Time\n",
    "df = df.set_index('Date/Time')"
   ]
  },
  {
   "cell_type": "code",
   "execution_count": null,
   "id": "bd1e68b7",
   "metadata": {},
   "outputs": [],
   "source": [
    "df.index"
   ]
  },
  {
   "cell_type": "code",
   "execution_count": null,
   "id": "64a69e21",
   "metadata": {},
   "outputs": [],
   "source": [
    "#Cast the index to datetime type instead of object\n",
    "df.index = pd.to_datetime(df.index)\n",
    "df.index"
   ]
  },
  {
   "cell_type": "code",
   "execution_count": null,
   "id": "1871e68f",
   "metadata": {},
   "outputs": [],
   "source": [
    "#Plot the dataset based on Date/Time and Close amount\n",
    "df['Close'].plot(style = '.', figsize =  (30,10), title = 'VIC Stock')\n",
    "plt.show"
   ]
  },
  {
   "cell_type": "markdown",
   "id": "1af8cc37",
   "metadata": {},
   "source": [
    "As we can see, there are missing values on the graph but when we check there is none. We can assume these are out of trading hours and prices will be the same as the previous timestamp and the trading volumes will be 0."
   ]
  },
  {
   "cell_type": "code",
   "execution_count": null,
   "id": "2a62af26",
   "metadata": {},
   "outputs": [],
   "source": [
    "#Fill missing date with null value\n",
    "df_resample = df.resample('min').asfreq()\n",
    "print('Dataframe resample shape:',df_resample.shape)"
   ]
  },
  {
   "cell_type": "code",
   "execution_count": null,
   "id": "38db1064",
   "metadata": {},
   "outputs": [],
   "source": [
    "print('Null values:',df_resample.isnull().values.any())"
   ]
  },
  {
   "cell_type": "code",
   "execution_count": null,
   "id": "e2bfd5a9",
   "metadata": {},
   "outputs": [],
   "source": [
    "#Fill out Open, Low, Close and with presvious timestamp\n",
    "cols = ['Open', 'Low','High','Close','Ticker']\n",
    "df_resample.loc[:,cols] = df_resample.loc[:,cols].ffill()"
   ]
  },
  {
   "cell_type": "code",
   "execution_count": null,
   "id": "08989293",
   "metadata": {},
   "outputs": [],
   "source": [
    "#Check empty rows\n",
    "df_resample"
   ]
  },
  {
   "cell_type": "code",
   "execution_count": null,
   "id": "f322d783",
   "metadata": {},
   "outputs": [],
   "source": [
    "#Fill Volume and Open Interest with 0s since there is no trade happening \n",
    "df_resample['Volume'] = df_resample['Volume'].fillna(0)\n",
    "df_resample['Open Interest'] = df_resample['Open Interest'].fillna(0)"
   ]
  },
  {
   "cell_type": "code",
   "execution_count": null,
   "id": "cf07e95d",
   "metadata": {},
   "outputs": [],
   "source": [
    "#Check NaN values\n",
    "df_resample.isna().sum()"
   ]
  },
  {
   "cell_type": "markdown",
   "id": "4f79a583",
   "metadata": {},
   "source": [
    "## Build Model"
   ]
  },
  {
   "cell_type": "code",
   "execution_count": null,
   "id": "2dc74d90",
   "metadata": {},
   "outputs": [],
   "source": [
    "#Create a new datafrane with Close\n",
    "data = df_resample.filter(['Close'])\n",
    "#Convert the dataframe to a numpy array\n",
    "dataset = data.values\n",
    "#Get number of rows for train data\n",
    "training_data_len = math.ceil(len(dataset) * .8)\n",
    "training_data_len"
   ]
  },
  {
   "cell_type": "code",
   "execution_count": null,
   "id": "431e2b14",
   "metadata": {},
   "outputs": [],
   "source": [
    "#Scale the data\n",
    "scaler = MinMaxScaler(feature_range = (0,1))\n",
    "scaled_data = scaler.fit_transform(dataset)\n",
    "scaled_data"
   ]
  },
  {
   "cell_type": "code",
   "execution_count": null,
   "id": "11595e8c",
   "metadata": {},
   "outputs": [],
   "source": [
    "#Create training data set\n",
    "train_data = scaled_data[0:training_data_len , :]\n",
    "#Split the data into x_train and y_train\n",
    "x_train = []\n",
    "y_train = []\n",
    "\n",
    "for i in range ( 60 , len(train_data)):\n",
    "    x_train.append(train_data[i-60:i,0])\n",
    "    y_train.append(train_data[i,0])"
   ]
  },
  {
   "cell_type": "code",
   "execution_count": null,
   "id": "f8a7e096",
   "metadata": {},
   "outputs": [],
   "source": [
    "#Convert the x_train and y_train to numpy arrays\n",
    "x_train, y_train = np.array(x_train),np.array(y_train)"
   ]
  },
  {
   "cell_type": "code",
   "execution_count": null,
   "id": "3caacb5e",
   "metadata": {},
   "outputs": [],
   "source": [
    "#Reshape the x_train data\n",
    "x_train = np.reshape(x_train,(x_train.shape[0],x_train.shape[1],1))\n",
    "x_train.shape"
   ]
  },
  {
   "cell_type": "code",
   "execution_count": null,
   "id": "a6d4489b",
   "metadata": {},
   "outputs": [],
   "source": [
    "#Build the LSTM model\n",
    "model = Sequential()\n",
    "model.add(LSTM(50, return_sequences = True, input_shape = (x_train.shape[1],1)))\n",
    "model.add(LSTM(50, return_sequences = False))\n",
    "model.add(Dense(25))\n",
    "model.add(Dense(1))"
   ]
  },
  {
   "cell_type": "code",
   "execution_count": null,
   "id": "dce6d794",
   "metadata": {},
   "outputs": [],
   "source": [
    "#Compile model\n",
    "model.compile(optimizer = 'adam', loss = 'mean_squared_error')"
   ]
  },
  {
   "cell_type": "code",
   "execution_count": null,
   "id": "bec197f0",
   "metadata": {},
   "outputs": [],
   "source": [
    "#Train the model\n",
    "model.fit(x_train, y_train, batch_size = 200, epochs =2)"
   ]
  },
  {
   "cell_type": "code",
   "execution_count": null,
   "id": "79b6385f",
   "metadata": {},
   "outputs": [],
   "source": [
    "#Create testing data set\n",
    "test_data = scaled_data[training_data_len - 60: , :]\n",
    "#Create x_test and y_test\n",
    "x_test = []\n",
    "y_test = dataset[training_data_len: , :]\n",
    "for i in range (60, len(test_data)):\n",
    "    x_test.append(test_data[i-60:i ,0])"
   ]
  },
  {
   "cell_type": "code",
   "execution_count": null,
   "id": "690695e0",
   "metadata": {},
   "outputs": [],
   "source": [
    "#Convert data to a numpy array\n",
    "x_test = np.array(x_test)\n",
    "x_test.shape"
   ]
  },
  {
   "cell_type": "code",
   "execution_count": null,
   "id": "6d332b73",
   "metadata": {},
   "outputs": [],
   "source": [
    "#Reshape the data\n",
    "x_test = np.reshape(x_test, (x_test.shape[0],x_test.shape[1],1))\n",
    "x_test.shape"
   ]
  },
  {
   "cell_type": "code",
   "execution_count": null,
   "id": "6f47b8d2",
   "metadata": {},
   "outputs": [],
   "source": [
    "#Get the models prediction\n",
    "predictions = model.predict(x_test)\n",
    "predictions = scaler.inverse_transform(predictions)"
   ]
  },
  {
   "cell_type": "code",
   "execution_count": null,
   "id": "baf0c4ad",
   "metadata": {},
   "outputs": [],
   "source": [
    "#Evaluate the model \n",
    "#Get RMSE\n",
    "rmse = np.sqrt(np.mean(predictions - y_test)**2)\n",
    "print('R2 Score: ',r2_score(y_test, predictions))\n",
    "print('RMSE score:',rmse)"
   ]
  },
  {
   "cell_type": "code",
   "execution_count": null,
   "id": "32020352",
   "metadata": {},
   "outputs": [],
   "source": [
    "#Plot the data \n",
    "train = data[:training_data_len]\n",
    "valid = data[training_data_len:]\n",
    "valid['Predictions'] = predictions\n",
    "#Visualize the data\n",
    "plt.figure(figsize = (30,10))\n",
    "plt.title('Model')\n",
    "plt.xlabel('Date')\n",
    "plt.ylabel('Close Price')\n",
    "plt.plot(train['Close'])\n",
    "plt.plot(valid[['Close','Predictions']])\n",
    "plt.legend(['Train' , 'Val', 'Predictions'], loc = 'lower right')\n",
    "plt.show"
   ]
  },
  {
   "cell_type": "code",
   "execution_count": null,
   "id": "8a2416dd",
   "metadata": {},
   "outputs": [],
   "source": [
    "def sliding_window(dataset,time):\n",
    "    \n",
    "    len_dataset=len(dataset)\n",
    "    \n",
    "    #Create a future input from test data with only 60 latest input\n",
    "    future_inp  = dataset[(len_dataset-60):]\n",
    "    \n",
    "    #Create a temporary input from future input\n",
    "    tmp_inp = list(future_inp)\n",
    "    \n",
    "    #Creating list of the last 60 data\n",
    "    tmp_inp = tmp_inp[0].tolist()\n",
    "    \n",
    "    #Predicting next 30 days price suing the current data\n",
    "    #It will predict in sliding window manner (algorithm) with stride 1\n",
    "    lst_output=[]\n",
    "    n_steps=60\n",
    "    i=0\n",
    "    while(i<time):\n",
    "    \n",
    "        if(len(tmp_inp)>60):\n",
    "            future_inp = np.array(tmp_inp[1:])\n",
    "            future_inp=future_inp.reshape(1,-1)\n",
    "            future_inp = future_inp.reshape((1, n_steps, 1))\n",
    "            yhat = model.predict(future_inp, verbose=0)\n",
    "            tmp_inp.extend(yhat[0].tolist())\n",
    "            tmp_inp = tmp_inp[1:]\n",
    "            lst_output.extend(yhat.tolist())\n",
    "            i=i+1\n",
    "        else:\n",
    "            future_inp = future_inp.reshape((1, n_steps,1))\n",
    "            yhat = model.predict(future_inp, verbose=0)\n",
    "            tmp_inp.extend(yhat[0].tolist())\n",
    "            lst_output.extend(yhat.tolist())\n",
    "            i=i+1\n",
    "    lst_output = scaler.inverse_transform(lst_output)\n",
    "    print(\"The change in stock price after\", time,\"minutes is:\",lst_output[-1]-scaler.inverse_transform(dataset)[-1])"
   ]
  },
  {
   "cell_type": "code",
   "execution_count": null,
   "id": "bb94ec8a",
   "metadata": {},
   "outputs": [],
   "source": [
    "sliding_window(test_data,120)"
   ]
  },
  {
   "cell_type": "code",
   "execution_count": null,
   "id": "a4c876bb",
   "metadata": {},
   "outputs": [],
   "source": []
  },
  {
   "cell_type": "code",
   "execution_count": null,
   "id": "d8a500aa",
   "metadata": {},
   "outputs": [],
   "source": []
  },
  {
   "cell_type": "code",
   "execution_count": null,
   "id": "cae52b45",
   "metadata": {},
   "outputs": [],
   "source": []
  }
 ],
 "metadata": {
  "kernelspec": {
   "display_name": "Python 3 (ipykernel)",
   "language": "python",
   "name": "python3"
  },
  "language_info": {
   "codemirror_mode": {
    "name": "ipython",
    "version": 3
   },
   "file_extension": ".py",
   "mimetype": "text/x-python",
   "name": "python",
   "nbconvert_exporter": "python",
   "pygments_lexer": "ipython3",
   "version": "3.9.9"
  }
 },
 "nbformat": 4,
 "nbformat_minor": 5
}
