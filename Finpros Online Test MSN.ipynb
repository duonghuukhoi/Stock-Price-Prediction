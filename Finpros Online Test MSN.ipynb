{
 "cells": [
  {
   "cell_type": "markdown",
   "id": "bd836333",
   "metadata": {},
   "source": [
    "# Finpros Online Testing MSN"
   ]
  },
  {
   "cell_type": "markdown",
   "id": "64841f4c",
   "metadata": {},
   "source": [
    "Author: Duong Huu Khoi\\\n",
    "Date: 24/02/2024\\\n",
    "Version: 5.0"
   ]
  },
  {
   "cell_type": "markdown",
   "id": "14df2ae3",
   "metadata": {},
   "source": [
    "## Import Libraries and Get Dataset "
   ]
  },
  {
   "cell_type": "code",
   "execution_count": 1,
   "id": "a4489168",
   "metadata": {},
   "outputs": [],
   "source": [
    "# Import Libraries\n",
    "import math\n",
    "import pandas as pd\n",
    "import numpy as np \n",
    "import matplotlib.pyplot as plt\n",
    "from sklearn.preprocessing import MinMaxScaler\n",
    "from keras.models import Sequential \n",
    "from keras.layers import Dense, LSTM\n",
    "from sklearn.metrics import mean_squared_error, r2_score, mean_absolute_error"
   ]
  },
  {
   "cell_type": "code",
   "execution_count": 2,
   "id": "eee190a9",
   "metadata": {},
   "outputs": [
    {
     "data": {
      "text/html": [
       "<div>\n",
       "<style scoped>\n",
       "    .dataframe tbody tr th:only-of-type {\n",
       "        vertical-align: middle;\n",
       "    }\n",
       "\n",
       "    .dataframe tbody tr th {\n",
       "        vertical-align: top;\n",
       "    }\n",
       "\n",
       "    .dataframe thead th {\n",
       "        text-align: right;\n",
       "    }\n",
       "</style>\n",
       "<table border=\"1\" class=\"dataframe\">\n",
       "  <thead>\n",
       "    <tr style=\"text-align: right;\">\n",
       "      <th></th>\n",
       "      <th>Ticker</th>\n",
       "      <th>Date/Time</th>\n",
       "      <th>Open</th>\n",
       "      <th>High</th>\n",
       "      <th>Low</th>\n",
       "      <th>Close</th>\n",
       "      <th>Volume</th>\n",
       "      <th>Open Interest</th>\n",
       "    </tr>\n",
       "  </thead>\n",
       "  <tbody>\n",
       "    <tr>\n",
       "      <th>0</th>\n",
       "      <td>MSN</td>\n",
       "      <td>12/25/2017 9:15</td>\n",
       "      <td>73.1</td>\n",
       "      <td>73.1</td>\n",
       "      <td>73.1</td>\n",
       "      <td>73.1</td>\n",
       "      <td>4210</td>\n",
       "      <td>0</td>\n",
       "    </tr>\n",
       "    <tr>\n",
       "      <th>1</th>\n",
       "      <td>MSN</td>\n",
       "      <td>12/25/2017 9:16</td>\n",
       "      <td>73.0</td>\n",
       "      <td>73.0</td>\n",
       "      <td>73.0</td>\n",
       "      <td>73.0</td>\n",
       "      <td>5000</td>\n",
       "      <td>0</td>\n",
       "    </tr>\n",
       "    <tr>\n",
       "      <th>2</th>\n",
       "      <td>MSN</td>\n",
       "      <td>12/25/2017 9:18</td>\n",
       "      <td>73.5</td>\n",
       "      <td>73.5</td>\n",
       "      <td>73.5</td>\n",
       "      <td>73.5</td>\n",
       "      <td>210</td>\n",
       "      <td>0</td>\n",
       "    </tr>\n",
       "    <tr>\n",
       "      <th>3</th>\n",
       "      <td>MSN</td>\n",
       "      <td>12/25/2017 9:20</td>\n",
       "      <td>73.2</td>\n",
       "      <td>73.5</td>\n",
       "      <td>73.1</td>\n",
       "      <td>73.1</td>\n",
       "      <td>2050</td>\n",
       "      <td>0</td>\n",
       "    </tr>\n",
       "    <tr>\n",
       "      <th>4</th>\n",
       "      <td>MSN</td>\n",
       "      <td>12/25/2017 9:21</td>\n",
       "      <td>73.0</td>\n",
       "      <td>73.0</td>\n",
       "      <td>73.0</td>\n",
       "      <td>73.0</td>\n",
       "      <td>1380</td>\n",
       "      <td>0</td>\n",
       "    </tr>\n",
       "  </tbody>\n",
       "</table>\n",
       "</div>"
      ],
      "text/plain": [
       "  Ticker        Date/Time  Open  High   Low  Close  Volume  Open Interest\n",
       "0    MSN  12/25/2017 9:15  73.1  73.1  73.1   73.1    4210              0\n",
       "1    MSN  12/25/2017 9:16  73.0  73.0  73.0   73.0    5000              0\n",
       "2    MSN  12/25/2017 9:18  73.5  73.5  73.5   73.5     210              0\n",
       "3    MSN  12/25/2017 9:20  73.2  73.5  73.1   73.1    2050              0\n",
       "4    MSN  12/25/2017 9:21  73.0  73.0  73.0   73.0    1380              0"
      ]
     },
     "execution_count": 2,
     "metadata": {},
     "output_type": "execute_result"
    }
   ],
   "source": [
    "# Get the dataset\n",
    "df = pd.read_csv('MSN.csv')\n",
    "df.head()"
   ]
  },
  {
   "cell_type": "markdown",
   "id": "866aec12",
   "metadata": {},
   "source": [
    "## Preparing Dataset"
   ]
  },
  {
   "cell_type": "code",
   "execution_count": 3,
   "id": "8011ba6a",
   "metadata": {},
   "outputs": [
    {
     "name": "stdout",
     "output_type": "stream",
     "text": [
      "Dataframe shape: (135354, 8)\n",
      "Null values: False\n"
     ]
    }
   ],
   "source": [
    "#Check dataframe shape and empty values\n",
    "print('Dataframe shape:',df.shape)\n",
    "print('Null values:',df.isnull().values.any())"
   ]
  },
  {
   "cell_type": "code",
   "execution_count": 4,
   "id": "3964bfed",
   "metadata": {},
   "outputs": [],
   "source": [
    "#Set index to Date/Time\n",
    "df = df.set_index('Date/Time')"
   ]
  },
  {
   "cell_type": "code",
   "execution_count": 5,
   "id": "bd1e68b7",
   "metadata": {},
   "outputs": [
    {
     "data": {
      "text/plain": [
       "Index(['12/25/2017 9:15', '12/25/2017 9:16', '12/25/2017 9:18',\n",
       "       '12/25/2017 9:20', '12/25/2017 9:21', '12/25/2017 9:22',\n",
       "       '12/25/2017 9:23', '12/25/2017 9:27', '12/25/2017 9:30',\n",
       "       '12/25/2017 9:36',\n",
       "       ...\n",
       "       '12/22/2020 14:18', '12/22/2020 14:19', '12/22/2020 14:20',\n",
       "       '12/22/2020 14:21', '12/22/2020 14:22', '12/22/2020 14:23',\n",
       "       '12/22/2020 14:24', '12/22/2020 14:25', '12/22/2020 14:27',\n",
       "       '12/22/2020 14:46'],\n",
       "      dtype='object', name='Date/Time', length=135354)"
      ]
     },
     "execution_count": 5,
     "metadata": {},
     "output_type": "execute_result"
    }
   ],
   "source": [
    "df.index"
   ]
  },
  {
   "cell_type": "code",
   "execution_count": 6,
   "id": "64a69e21",
   "metadata": {},
   "outputs": [
    {
     "data": {
      "text/plain": [
       "DatetimeIndex(['2017-12-25 09:15:00', '2017-12-25 09:16:00',\n",
       "               '2017-12-25 09:18:00', '2017-12-25 09:20:00',\n",
       "               '2017-12-25 09:21:00', '2017-12-25 09:22:00',\n",
       "               '2017-12-25 09:23:00', '2017-12-25 09:27:00',\n",
       "               '2017-12-25 09:30:00', '2017-12-25 09:36:00',\n",
       "               ...\n",
       "               '2020-12-22 14:18:00', '2020-12-22 14:19:00',\n",
       "               '2020-12-22 14:20:00', '2020-12-22 14:21:00',\n",
       "               '2020-12-22 14:22:00', '2020-12-22 14:23:00',\n",
       "               '2020-12-22 14:24:00', '2020-12-22 14:25:00',\n",
       "               '2020-12-22 14:27:00', '2020-12-22 14:46:00'],\n",
       "              dtype='datetime64[ns]', name='Date/Time', length=135354, freq=None)"
      ]
     },
     "execution_count": 6,
     "metadata": {},
     "output_type": "execute_result"
    }
   ],
   "source": [
    "#Cast the index to datetime type instead of object\n",
    "df.index = pd.to_datetime(df.index)\n",
    "df.index"
   ]
  },
  {
   "cell_type": "code",
   "execution_count": 7,
   "id": "1871e68f",
   "metadata": {},
   "outputs": [
    {
     "data": {
      "text/plain": [
       "<function matplotlib.pyplot.show(close=None, block=None)>"
      ]
     },
     "execution_count": 7,
     "metadata": {},
     "output_type": "execute_result"
    },
    {
     "data": {
      "image/png": "[encoded data removed]",
      "text/plain": [
       "<Figure size 2160x720 with 1 Axes>"
      ]
     },
     "metadata": {
      "needs_background": "light"
     },
     "output_type": "display_data"
    }
   ],
   "source": [
    "#Plot the dataset based on Date/Time and Close amount\n",
    "df['Close'].plot(style = '.', figsize =  (30,10), title = 'VIC Stock')\n",
    "plt.show"
   ]
  },
  {
   "cell_type": "markdown",
   "id": "1af8cc37",
   "metadata": {},
   "source": [
    "As we can see, there are missing values on the graph but when we check there is none. We can assume these are out of trading hours and prices will be the same as the previous timestamp and the trading volumes will be 0."
   ]
  },
  {
   "cell_type": "code",
   "execution_count": 8,
   "id": "2a62af26",
   "metadata": {},
   "outputs": [
    {
     "name": "stdout",
     "output_type": "stream",
     "text": [
      "Dataframe resample shape: (1574252, 7)\n"
     ]
    }
   ],
   "source": [
    "#Fill missing date with null value\n",
    "df_resample = df.resample('min').asfreq()\n",
    "print('Dataframe resample shape:',df_resample.shape)"
   ]
  },
  {
   "cell_type": "code",
   "execution_count": 9,
   "id": "38db1064",
   "metadata": {},
   "outputs": [
    {
     "name": "stdout",
     "output_type": "stream",
     "text": [
      "Null values: True\n"
     ]
    }
   ],
   "source": [
    "print('Null values:',df_resample.isnull().values.any())"
   ]
  },
  {
   "cell_type": "code",
   "execution_count": 10,
   "id": "e2bfd5a9",
   "metadata": {},
   "outputs": [],
   "source": [
    "#Fill out Open, Low, Close and with presvious timestamp\n",
    "cols = ['Open', 'Low','High','Close','Ticker']\n",
    "df_resample.loc[:,cols] = df_resample.loc[:,cols].ffill()"
   ]
  },
  {
   "cell_type": "code",
   "execution_count": 11,
   "id": "08989293",
   "metadata": {},
   "outputs": [
    {
     "data": {
      "text/html": [
       "<div>\n",
       "<style scoped>\n",
       "    .dataframe tbody tr th:only-of-type {\n",
       "        vertical-align: middle;\n",
       "    }\n",
       "\n",
       "    .dataframe tbody tr th {\n",
       "        vertical-align: top;\n",
       "    }\n",
       "\n",
       "    .dataframe thead th {\n",
       "        text-align: right;\n",
       "    }\n",
       "</style>\n",
       "<table border=\"1\" class=\"dataframe\">\n",
       "  <thead>\n",
       "    <tr style=\"text-align: right;\">\n",
       "      <th></th>\n",
       "      <th>Ticker</th>\n",
       "      <th>Open</th>\n",
       "      <th>High</th>\n",
       "      <th>Low</th>\n",
       "      <th>Close</th>\n",
       "      <th>Volume</th>\n",
       "      <th>Open Interest</th>\n",
       "    </tr>\n",
       "    <tr>\n",
       "      <th>Date/Time</th>\n",
       "      <th></th>\n",
       "      <th></th>\n",
       "      <th></th>\n",
       "      <th></th>\n",
       "      <th></th>\n",
       "      <th></th>\n",
       "      <th></th>\n",
       "    </tr>\n",
       "  </thead>\n",
       "  <tbody>\n",
       "    <tr>\n",
       "      <th>2017-12-25 09:15:00</th>\n",
       "      <td>MSN</td>\n",
       "      <td>73.1</td>\n",
       "      <td>73.1</td>\n",
       "      <td>73.1</td>\n",
       "      <td>73.1</td>\n",
       "      <td>4210.0</td>\n",
       "      <td>0.0</td>\n",
       "    </tr>\n",
       "    <tr>\n",
       "      <th>2017-12-25 09:16:00</th>\n",
       "      <td>MSN</td>\n",
       "      <td>73.0</td>\n",
       "      <td>73.0</td>\n",
       "      <td>73.0</td>\n",
       "      <td>73.0</td>\n",
       "      <td>5000.0</td>\n",
       "      <td>0.0</td>\n",
       "    </tr>\n",
       "    <tr>\n",
       "      <th>2017-12-25 09:17:00</th>\n",
       "      <td>MSN</td>\n",
       "      <td>73.0</td>\n",
       "      <td>73.0</td>\n",
       "      <td>73.0</td>\n",
       "      <td>73.0</td>\n",
       "      <td>NaN</td>\n",
       "      <td>NaN</td>\n",
       "    </tr>\n",
       "    <tr>\n",
       "      <th>2017-12-25 09:18:00</th>\n",
       "      <td>MSN</td>\n",
       "      <td>73.5</td>\n",
       "      <td>73.5</td>\n",
       "      <td>73.5</td>\n",
       "      <td>73.5</td>\n",
       "      <td>210.0</td>\n",
       "      <td>0.0</td>\n",
       "    </tr>\n",
       "    <tr>\n",
       "      <th>2017-12-25 09:19:00</th>\n",
       "      <td>MSN</td>\n",
       "      <td>73.5</td>\n",
       "      <td>73.5</td>\n",
       "      <td>73.5</td>\n",
       "      <td>73.5</td>\n",
       "      <td>NaN</td>\n",
       "      <td>NaN</td>\n",
       "    </tr>\n",
       "    <tr>\n",
       "      <th>...</th>\n",
       "      <td>...</td>\n",
       "      <td>...</td>\n",
       "      <td>...</td>\n",
       "      <td>...</td>\n",
       "      <td>...</td>\n",
       "      <td>...</td>\n",
       "      <td>...</td>\n",
       "    </tr>\n",
       "    <tr>\n",
       "      <th>2020-12-22 14:42:00</th>\n",
       "      <td>MSN</td>\n",
       "      <td>82.8</td>\n",
       "      <td>82.8</td>\n",
       "      <td>82.8</td>\n",
       "      <td>82.8</td>\n",
       "      <td>NaN</td>\n",
       "      <td>NaN</td>\n",
       "    </tr>\n",
       "    <tr>\n",
       "      <th>2020-12-22 14:43:00</th>\n",
       "      <td>MSN</td>\n",
       "      <td>82.8</td>\n",
       "      <td>82.8</td>\n",
       "      <td>82.8</td>\n",
       "      <td>82.8</td>\n",
       "      <td>NaN</td>\n",
       "      <td>NaN</td>\n",
       "    </tr>\n",
       "    <tr>\n",
       "      <th>2020-12-22 14:44:00</th>\n",
       "      <td>MSN</td>\n",
       "      <td>82.8</td>\n",
       "      <td>82.8</td>\n",
       "      <td>82.8</td>\n",
       "      <td>82.8</td>\n",
       "      <td>NaN</td>\n",
       "      <td>NaN</td>\n",
       "    </tr>\n",
       "    <tr>\n",
       "      <th>2020-12-22 14:45:00</th>\n",
       "      <td>MSN</td>\n",
       "      <td>82.8</td>\n",
       "      <td>82.8</td>\n",
       "      <td>82.8</td>\n",
       "      <td>82.8</td>\n",
       "      <td>NaN</td>\n",
       "      <td>NaN</td>\n",
       "    </tr>\n",
       "    <tr>\n",
       "      <th>2020-12-22 14:46:00</th>\n",
       "      <td>MSN</td>\n",
       "      <td>82.8</td>\n",
       "      <td>82.8</td>\n",
       "      <td>82.8</td>\n",
       "      <td>82.8</td>\n",
       "      <td>200.0</td>\n",
       "      <td>0.0</td>\n",
       "    </tr>\n",
       "  </tbody>\n",
       "</table>\n",
       "<p>1574252 rows × 7 columns</p>\n",
       "</div>"
      ],
      "text/plain": [
       "                    Ticker  Open  High   Low  Close  Volume  Open Interest\n",
       "Date/Time                                                                 \n",
       "2017-12-25 09:15:00    MSN  73.1  73.1  73.1   73.1  4210.0            0.0\n",
       "2017-12-25 09:16:00    MSN  73.0  73.0  73.0   73.0  5000.0            0.0\n",
       "2017-12-25 09:17:00    MSN  73.0  73.0  73.0   73.0     NaN            NaN\n",
       "2017-12-25 09:18:00    MSN  73.5  73.5  73.5   73.5   210.0            0.0\n",
       "2017-12-25 09:19:00    MSN  73.5  73.5  73.5   73.5     NaN            NaN\n",
       "...                    ...   ...   ...   ...    ...     ...            ...\n",
       "2020-12-22 14:42:00    MSN  82.8  82.8  82.8   82.8     NaN            NaN\n",
       "2020-12-22 14:43:00    MSN  82.8  82.8  82.8   82.8     NaN            NaN\n",
       "2020-12-22 14:44:00    MSN  82.8  82.8  82.8   82.8     NaN            NaN\n",
       "2020-12-22 14:45:00    MSN  82.8  82.8  82.8   82.8     NaN            NaN\n",
       "2020-12-22 14:46:00    MSN  82.8  82.8  82.8   82.8   200.0            0.0\n",
       "\n",
       "[1574252 rows x 7 columns]"
      ]
     },
     "execution_count": 11,
     "metadata": {},
     "output_type": "execute_result"
    }
   ],
   "source": [
    "#Check empty rows\n",
    "df_resample"
   ]
  },
  {
   "cell_type": "code",
   "execution_count": 12,
   "id": "f322d783",
   "metadata": {},
   "outputs": [],
   "source": [
    "#Fill Volume and Open Interest with 0s since there is no trade happening \n",
    "df_resample['Volume'] = df_resample['Volume'].fillna(0)\n",
    "df_resample['Open Interest'] = df_resample['Open Interest'].fillna(0)"
   ]
  },
  {
   "cell_type": "code",
   "execution_count": 13,
   "id": "cf07e95d",
   "metadata": {},
   "outputs": [
    {
     "data": {
      "text/plain": [
       "Ticker           0\n",
       "Open             0\n",
       "High             0\n",
       "Low              0\n",
       "Close            0\n",
       "Volume           0\n",
       "Open Interest    0\n",
       "dtype: int64"
      ]
     },
     "execution_count": 13,
     "metadata": {},
     "output_type": "execute_result"
    }
   ],
   "source": [
    "#Check NaN values\n",
    "df_resample.isna().sum()"
   ]
  },
  {
   "cell_type": "markdown",
   "id": "4f79a583",
   "metadata": {},
   "source": [
    "## Build Model"
   ]
  },
  {
   "cell_type": "code",
   "execution_count": 14,
   "id": "2dc74d90",
   "metadata": {},
   "outputs": [
    {
     "data": {
      "text/plain": [
       "1259402"
      ]
     },
     "execution_count": 14,
     "metadata": {},
     "output_type": "execute_result"
    }
   ],
   "source": [
    "#Create a new datafrane with Close\n",
    "data = df_resample.filter(['Close'])\n",
    "#Convert the dataframe to a numpy array\n",
    "dataset = data.values\n",
    "#Get number of rows for train data\n",
    "training_data_len = math.ceil(len(dataset) * .8)\n",
    "training_data_len"
   ]
  },
  {
   "cell_type": "code",
   "execution_count": 15,
   "id": "431e2b14",
   "metadata": {},
   "outputs": [
    {
     "data": {
      "text/plain": [
       "array([[0.37290503],\n",
       "       [0.37150838],\n",
       "       [0.37150838],\n",
       "       ...,\n",
       "       [0.50837989],\n",
       "       [0.50837989],\n",
       "       [0.50837989]])"
      ]
     },
     "execution_count": 15,
     "metadata": {},
     "output_type": "execute_result"
    }
   ],
   "source": [
    "#Scale the data\n",
    "scaler = MinMaxScaler(feature_range = (0,1))\n",
    "scaled_data = scaler.fit_transform(dataset)\n",
    "scaled_data"
   ]
  },
  {
   "cell_type": "code",
   "execution_count": 16,
   "id": "11595e8c",
   "metadata": {},
   "outputs": [],
   "source": [
    "#Create training data set\n",
    "train_data = scaled_data[0:training_data_len , :]\n",
    "#Split the data into x_train and y_train\n",
    "x_train = []\n",
    "y_train = []\n",
    "\n",
    "for i in range ( 60 , len(train_data)):\n",
    "    x_train.append(train_data[i-60:i,0])\n",
    "    y_train.append(train_data[i,0])"
   ]
  },
  {
   "cell_type": "code",
   "execution_count": 17,
   "id": "f8a7e096",
   "metadata": {},
   "outputs": [],
   "source": [
    "#Convert the x_train and y_train to numpy arrays\n",
    "x_train, y_train = np.array(x_train),np.array(y_train)"
   ]
  },
  {
   "cell_type": "code",
   "execution_count": 18,
   "id": "3caacb5e",
   "metadata": {},
   "outputs": [
    {
     "data": {
      "text/plain": [
       "(1259342, 60, 1)"
      ]
     },
     "execution_count": 18,
     "metadata": {},
     "output_type": "execute_result"
    }
   ],
   "source": [
    "#Reshape the x_train data\n",
    "x_train = np.reshape(x_train,(x_train.shape[0],x_train.shape[1],1))\n",
    "x_train.shape"
   ]
  },
  {
   "cell_type": "code",
   "execution_count": 19,
   "id": "a6d4489b",
   "metadata": {},
   "outputs": [],
   "source": [
    "#Build the LSTM model\n",
    "model = Sequential()\n",
    "model.add(LSTM(50, return_sequences = True, input_shape = (x_train.shape[1],1)))\n",
    "model.add(LSTM(50, return_sequences = False))\n",
    "model.add(Dense(25))\n",
    "model.add(Dense(1))"
   ]
  },
  {
   "cell_type": "code",
   "execution_count": 20,
   "id": "dce6d794",
   "metadata": {},
   "outputs": [],
   "source": [
    "#Compile model\n",
    "model.compile(optimizer = 'adam', loss = 'mean_squared_error')"
   ]
  },
  {
   "cell_type": "code",
   "execution_count": 21,
   "id": "bec197f0",
   "metadata": {},
   "outputs": [
    {
     "name": "stdout",
     "output_type": "stream",
     "text": [
      "Epoch 1/2\n",
      "6297/6297 [==============================] - 262s 40ms/step - loss: 1.0777e-04\n",
      "Epoch 2/2\n",
      "6297/6297 [==============================] - 155s 25ms/step - loss: 5.1583e-06\n"
     ]
    },
    {
     "data": {
      "text/plain": [
       "<keras.callbacks.History at 0x1950307bf10>"
      ]
     },
     "execution_count": 21,
     "metadata": {},
     "output_type": "execute_result"
    }
   ],
   "source": [
    "#Train the model\n",
    "model.fit(x_train, y_train, batch_size = 200, epochs =2)"
   ]
  },
  {
   "cell_type": "code",
   "execution_count": 22,
   "id": "79b6385f",
   "metadata": {},
   "outputs": [],
   "source": [
    "#Create testing data set\n",
    "test_data = scaled_data[training_data_len - 60: , :]\n",
    "#Create x_test and y_test\n",
    "x_test = []\n",
    "y_test = dataset[training_data_len: , :]\n",
    "for i in range (60, len(test_data)):\n",
    "    x_test.append(test_data[i-60:i ,0])"
   ]
  },
  {
   "cell_type": "code",
   "execution_count": 23,
   "id": "690695e0",
   "metadata": {},
   "outputs": [
    {
     "data": {
      "text/plain": [
       "(314850, 60)"
      ]
     },
     "execution_count": 23,
     "metadata": {},
     "output_type": "execute_result"
    }
   ],
   "source": [
    "#Convert data to a numpy array\n",
    "x_test = np.array(x_test)\n",
    "x_test.shape"
   ]
  },
  {
   "cell_type": "code",
   "execution_count": 24,
   "id": "6d332b73",
   "metadata": {},
   "outputs": [
    {
     "data": {
      "text/plain": [
       "(314850, 60, 1)"
      ]
     },
     "execution_count": 24,
     "metadata": {},
     "output_type": "execute_result"
    }
   ],
   "source": [
    "#Reshape the data\n",
    "x_test = np.reshape(x_test, (x_test.shape[0],x_test.shape[1],1))\n",
    "x_test.shape"
   ]
  },
  {
   "cell_type": "code",
   "execution_count": 25,
   "id": "6f47b8d2",
   "metadata": {},
   "outputs": [],
   "source": [
    "#Get the models prediction\n",
    "predictions = model.predict(x_test)\n",
    "predictions = scaler.inverse_transform(predictions)"
   ]
  },
  {
   "cell_type": "code",
   "execution_count": 26,
   "id": "baf0c4ad",
   "metadata": {},
   "outputs": [
    {
     "name": "stdout",
     "output_type": "stream",
     "text": [
      "R2 Score:  0.9999411788763771\n",
      "RMSE score: 0.03324442421990517\n"
     ]
    }
   ],
   "source": [
    "#Evaluate the model \n",
    "#Get RMSE\n",
    "rmse = np.sqrt(np.mean(predictions - y_test)**2)\n",
    "print('R2 Score: ',r2_score(y_test, predictions))\n",
    "print('RMSE score:',rmse)"
   ]
  },
  {
   "cell_type": "code",
   "execution_count": 28,
   "id": "32020352",
   "metadata": {},
   "outputs": [
    {
     "name": "stderr",
     "output_type": "stream",
     "text": [
      "C:\\Users\\KHOIDU~1\\AppData\\Local\\Temp/ipykernel_952/529889797.py:4: SettingWithCopyWarning: \n",
      "A value is trying to be set on a copy of a slice from a DataFrame.\n",
      "Try using .loc[row_indexer,col_indexer] = value instead\n",
      "\n",
      "See the caveats in the documentation: https://pandas.pydata.org/pandas-docs/stable/user_guide/indexing.html#returning-a-view-versus-a-copy\n",
      "  valid['Predictions'] = predictions\n"
     ]
    },
    {
     "data": {
      "text/plain": [
       "<function matplotlib.pyplot.show(close=None, block=None)>"
      ]
     },
     "execution_count": 28,
     "metadata": {},
     "output_type": "execute_result"
    },
    {
     "data": {
      "image/png": "[encoded data removed]",
      "text/plain": [
       "<Figure size 2160x720 with 1 Axes>"
      ]
     },
     "metadata": {
      "needs_background": "light"
     },
     "output_type": "display_data"
    }
   ],
   "source": [
    "#Plot the data \n",
    "train = data[:training_data_len]\n",
    "valid = data[training_data_len:]\n",
    "valid['Predictions'] = predictions\n",
    "#Visualize the data\n",
    "plt.figure(figsize = (30,10))\n",
    "plt.title('Model')\n",
    "plt.xlabel('Date')\n",
    "plt.ylabel('Close Price')\n",
    "plt.plot(train['Close'])\n",
    "plt.plot(valid[['Close','Predictions']])\n",
    "plt.legend(['Train' , 'Val', 'Predictions'], loc = 'lower right')\n",
    "plt.show"
   ]
  },
  {
   "cell_type": "code",
   "execution_count": 29,
   "id": "8a2416dd",
   "metadata": {},
   "outputs": [],
   "source": [
    "def sliding_window(dataset,time):\n",
    "    \n",
    "    len_dataset=len(dataset)\n",
    "    \n",
    "    #Create a future input from test data with only 60 latest input\n",
    "    future_inp  = dataset[(len_dataset-60):]\n",
    "    \n",
    "    #Create a temporary input from future input\n",
    "    tmp_inp = list(future_inp)\n",
    "    \n",
    "    #Creating list of the last 60 data\n",
    "    tmp_inp = tmp_inp[0].tolist()\n",
    "    \n",
    "    #Predicting next 30 days price suing the current data\n",
    "    #It will predict in sliding window manner (algorithm) with stride 1\n",
    "    lst_output=[]\n",
    "    n_steps=60\n",
    "    i=0\n",
    "    while(i<time):\n",
    "    \n",
    "        if(len(tmp_inp)>60):\n",
    "            future_inp = np.array(tmp_inp[1:])\n",
    "            future_inp=future_inp.reshape(1,-1)\n",
    "            future_inp = future_inp.reshape((1, n_steps, 1))\n",
    "            yhat = model.predict(future_inp, verbose=0)\n",
    "            tmp_inp.extend(yhat[0].tolist())\n",
    "            tmp_inp = tmp_inp[1:]\n",
    "            lst_output.extend(yhat.tolist())\n",
    "            i=i+1\n",
    "        else:\n",
    "            future_inp = future_inp.reshape((1, n_steps,1))\n",
    "            yhat = model.predict(future_inp, verbose=0)\n",
    "            tmp_inp.extend(yhat[0].tolist())\n",
    "            lst_output.extend(yhat.tolist())\n",
    "            i=i+1\n",
    "    lst_output = scaler.inverse_transform(lst_output)\n",
    "    print(\"The change in stock price after\", time,\"minutes is:\",lst_output[-1]-scaler.inverse_transform(dataset)[-1])"
   ]
  },
  {
   "cell_type": "code",
   "execution_count": 31,
   "id": "bb94ec8a",
   "metadata": {},
   "outputs": [
    {
     "name": "stdout",
     "output_type": "stream",
     "text": [
      "The change in stock price after 120 minutes is: [-1.10675435]\n"
     ]
    }
   ],
   "source": [
    "sliding_window(test_data,120)"
   ]
  },
  {
   "cell_type": "code",
   "execution_count": null,
   "id": "a4c876bb",
   "metadata": {},
   "outputs": [],
   "source": []
  },
  {
   "cell_type": "code",
   "execution_count": null,
   "id": "d8a500aa",
   "metadata": {},
   "outputs": [],
   "source": []
  },
  {
   "cell_type": "code",
   "execution_count": null,
   "id": "cae52b45",
   "metadata": {},
   "outputs": [],
   "source": []
  }
 ],
 "metadata": {
  "kernelspec": {
   "display_name": "Python 3 (ipykernel)",
   "language": "python",
   "name": "python3"
  },
  "language_info": {
   "codemirror_mode": {
    "name": "ipython",
    "version": 3
   },
   "file_extension": ".py",
   "mimetype": "text/x-python",
   "name": "python",
   "nbconvert_exporter": "python",
   "pygments_lexer": "ipython3",
   "version": "3.9.9"
  }
 },
 "nbformat": 4,
 "nbformat_minor": 5
}
