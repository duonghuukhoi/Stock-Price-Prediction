{
 "cells": [
  {
   "cell_type": "markdown",
   "id": "fdb3f46b",
   "metadata": {},
   "source": [
    "# Finpros Online Testing FPT"
   ]
  },
  {
   "cell_type": "markdown",
   "id": "eb3a3f7a",
   "metadata": {},
   "source": [
    "Author: Duong Huu Khoi\\\n",
    "Date: 24/02/2024\\\n",
    "Version: 5.0"
   ]
  },
  {
   "cell_type": "markdown",
   "id": "77046a15",
   "metadata": {},
   "source": [
    "## Import Libraries and Get Dataset "
   ]
  },
  {
   "cell_type": "code",
   "execution_count": 1,
   "id": "90fed4d7",
   "metadata": {},
   "outputs": [],
   "source": [
    "# Import Libraries\n",
    "import math\n",
    "import pandas as pd\n",
    "import numpy as np \n",
    "import matplotlib.pyplot as plt\n",
    "from sklearn.preprocessing import MinMaxScaler\n",
    "from keras.models import Sequential \n",
    "from keras.layers import Dense, LSTM\n",
    "from sklearn.metrics import mean_squared_error, r2_score, mean_absolute_error"
   ]
  },
  {
   "cell_type": "code",
   "execution_count": 2,
   "id": "e26ac855",
   "metadata": {},
   "outputs": [
    {
     "data": {
      "text/html": [
       "<div>\n",
       "<style scoped>\n",
       "    .dataframe tbody tr th:only-of-type {\n",
       "        vertical-align: middle;\n",
       "    }\n",
       "\n",
       "    .dataframe tbody tr th {\n",
       "        vertical-align: top;\n",
       "    }\n",
       "\n",
       "    .dataframe thead th {\n",
       "        text-align: right;\n",
       "    }\n",
       "</style>\n",
       "<table border=\"1\" class=\"dataframe\">\n",
       "  <thead>\n",
       "    <tr style=\"text-align: right;\">\n",
       "      <th></th>\n",
       "      <th>Ticker</th>\n",
       "      <th>Date/Time</th>\n",
       "      <th>Open</th>\n",
       "      <th>High</th>\n",
       "      <th>Low</th>\n",
       "      <th>Close</th>\n",
       "      <th>Volume</th>\n",
       "      <th>Open Interest</th>\n",
       "    </tr>\n",
       "  </thead>\n",
       "  <tbody>\n",
       "    <tr>\n",
       "      <th>0</th>\n",
       "      <td>FPT</td>\n",
       "      <td>12/25/2018 9:15</td>\n",
       "      <td>30.89</td>\n",
       "      <td>30.89</td>\n",
       "      <td>30.89</td>\n",
       "      <td>30.89</td>\n",
       "      <td>35410</td>\n",
       "      <td>0</td>\n",
       "    </tr>\n",
       "    <tr>\n",
       "      <th>1</th>\n",
       "      <td>FPT</td>\n",
       "      <td>12/25/2018 9:16</td>\n",
       "      <td>30.81</td>\n",
       "      <td>30.81</td>\n",
       "      <td>30.81</td>\n",
       "      <td>30.81</td>\n",
       "      <td>190</td>\n",
       "      <td>0</td>\n",
       "    </tr>\n",
       "    <tr>\n",
       "      <th>2</th>\n",
       "      <td>FPT</td>\n",
       "      <td>12/25/2018 9:17</td>\n",
       "      <td>30.74</td>\n",
       "      <td>30.81</td>\n",
       "      <td>30.74</td>\n",
       "      <td>30.74</td>\n",
       "      <td>1120</td>\n",
       "      <td>0</td>\n",
       "    </tr>\n",
       "    <tr>\n",
       "      <th>3</th>\n",
       "      <td>FPT</td>\n",
       "      <td>12/25/2018 9:18</td>\n",
       "      <td>30.74</td>\n",
       "      <td>30.74</td>\n",
       "      <td>30.74</td>\n",
       "      <td>30.74</td>\n",
       "      <td>2120</td>\n",
       "      <td>0</td>\n",
       "    </tr>\n",
       "    <tr>\n",
       "      <th>4</th>\n",
       "      <td>FPT</td>\n",
       "      <td>12/25/2018 9:19</td>\n",
       "      <td>30.74</td>\n",
       "      <td>30.74</td>\n",
       "      <td>30.74</td>\n",
       "      <td>30.74</td>\n",
       "      <td>22500</td>\n",
       "      <td>0</td>\n",
       "    </tr>\n",
       "  </tbody>\n",
       "</table>\n",
       "</div>"
      ],
      "text/plain": [
       "  Ticker        Date/Time   Open   High    Low  Close  Volume  Open Interest\n",
       "0    FPT  12/25/2018 9:15  30.89  30.89  30.89  30.89   35410              0\n",
       "1    FPT  12/25/2018 9:16  30.81  30.81  30.81  30.81     190              0\n",
       "2    FPT  12/25/2018 9:17  30.74  30.81  30.74  30.74    1120              0\n",
       "3    FPT  12/25/2018 9:18  30.74  30.74  30.74  30.74    2120              0\n",
       "4    FPT  12/25/2018 9:19  30.74  30.74  30.74  30.74   22500              0"
      ]
     },
     "execution_count": 2,
     "metadata": {},
     "output_type": "execute_result"
    }
   ],
   "source": [
    "# Get the dataset\n",
    "df_fpt = pd.read_csv('FPT.csv')\n",
    "df_fpt.head()"
   ]
  },
  {
   "cell_type": "markdown",
   "id": "dbe7edc5",
   "metadata": {},
   "source": [
    "## Preparing Dataset"
   ]
  },
  {
   "cell_type": "code",
   "execution_count": 3,
   "id": "cda9639c",
   "metadata": {},
   "outputs": [
    {
     "name": "stdout",
     "output_type": "stream",
     "text": [
      "Dataframe shape: (97406, 8)\n",
      "Null values: False\n"
     ]
    }
   ],
   "source": [
    "#Check dataframe shape and empty values\n",
    "print('Dataframe shape:',df_fpt.shape)\n",
    "print('Null values:',df_fpt.isnull().values.any())"
   ]
  },
  {
   "cell_type": "code",
   "execution_count": 4,
   "id": "986ece40",
   "metadata": {},
   "outputs": [],
   "source": [
    "#Set index to Date/Time\n",
    "df_fpt = df_fpt.set_index('Date/Time')"
   ]
  },
  {
   "cell_type": "code",
   "execution_count": 5,
   "id": "cfb3d2f4",
   "metadata": {},
   "outputs": [
    {
     "data": {
      "text/plain": [
       "Index(['12/25/2018 9:15', '12/25/2018 9:16', '12/25/2018 9:17',\n",
       "       '12/25/2018 9:18', '12/25/2018 9:19', '12/25/2018 9:20',\n",
       "       '12/25/2018 9:21', '12/26/2018 9:15', '12/26/2018 9:16',\n",
       "       '12/26/2018 9:17',\n",
       "       ...\n",
       "       '12/22/2020 14:19', '12/22/2020 14:20', '12/22/2020 14:21',\n",
       "       '12/22/2020 14:22', '12/22/2020 14:23', '12/22/2020 14:24',\n",
       "       '12/22/2020 14:25', '12/22/2020 14:26', '12/22/2020 14:29',\n",
       "       '12/22/2020 14:46'],\n",
       "      dtype='object', name='Date/Time', length=97406)"
      ]
     },
     "execution_count": 5,
     "metadata": {},
     "output_type": "execute_result"
    }
   ],
   "source": [
    "df_fpt.index"
   ]
  },
  {
   "cell_type": "code",
   "execution_count": 6,
   "id": "83a9616f",
   "metadata": {},
   "outputs": [
    {
     "data": {
      "text/plain": [
       "DatetimeIndex(['2018-12-25 09:15:00', '2018-12-25 09:16:00',\n",
       "               '2018-12-25 09:17:00', '2018-12-25 09:18:00',\n",
       "               '2018-12-25 09:19:00', '2018-12-25 09:20:00',\n",
       "               '2018-12-25 09:21:00', '2018-12-26 09:15:00',\n",
       "               '2018-12-26 09:16:00', '2018-12-26 09:17:00',\n",
       "               ...\n",
       "               '2020-12-22 14:19:00', '2020-12-22 14:20:00',\n",
       "               '2020-12-22 14:21:00', '2020-12-22 14:22:00',\n",
       "               '2020-12-22 14:23:00', '2020-12-22 14:24:00',\n",
       "               '2020-12-22 14:25:00', '2020-12-22 14:26:00',\n",
       "               '2020-12-22 14:29:00', '2020-12-22 14:46:00'],\n",
       "              dtype='datetime64[ns]', name='Date/Time', length=97406, freq=None)"
      ]
     },
     "execution_count": 6,
     "metadata": {},
     "output_type": "execute_result"
    }
   ],
   "source": [
    "#Cast the index to datetime type instead of object\n",
    "df_fpt.index = pd.to_datetime(df_fpt.index)\n",
    "df_fpt.index"
   ]
  },
  {
   "cell_type": "code",
   "execution_count": 7,
   "id": "29b03583",
   "metadata": {},
   "outputs": [
    {
     "data": {
      "text/plain": [
       "<function matplotlib.pyplot.show(close=None, block=None)>"
      ]
     },
     "execution_count": 7,
     "metadata": {},
     "output_type": "execute_result"
    },
    {
     "data": {
      "image/png": "[encoded data removed]",
      "text/plain": [
       "<Figure size 2160x720 with 1 Axes>"
      ]
     },
     "metadata": {
      "needs_background": "light"
     },
     "output_type": "display_data"
    }
   ],
   "source": [
    "#Plot the dataset based on Date/Time and Close amount\n",
    "df_fpt['Close'].plot(style = '.', figsize =  (30,10), title = 'FPT Stock')\n",
    "plt.show"
   ]
  },
  {
   "cell_type": "markdown",
   "id": "105bde98",
   "metadata": {},
   "source": [
    "As we can see, there are missing values on the graph but when we check there is none. We can assume these are out of trading hours and prices will be the same as the previous timestamp and the trading volumes will be 0."
   ]
  },
  {
   "cell_type": "code",
   "execution_count": 8,
   "id": "a06a472c",
   "metadata": {},
   "outputs": [
    {
     "name": "stdout",
     "output_type": "stream",
     "text": [
      "Dataframe resample shape: (1048652, 7)\n"
     ]
    }
   ],
   "source": [
    "#Fill missing date with null value\n",
    "df_fpt_resample = df_fpt.resample('min').asfreq()\n",
    "print('Dataframe resample shape:',df_fpt_resample.shape)"
   ]
  },
  {
   "cell_type": "code",
   "execution_count": 9,
   "id": "e29e6d49",
   "metadata": {},
   "outputs": [
    {
     "name": "stdout",
     "output_type": "stream",
     "text": [
      "Null values: True\n"
     ]
    }
   ],
   "source": [
    "print('Null values:',df_fpt_resample.isnull().values.any())"
   ]
  },
  {
   "cell_type": "code",
   "execution_count": 10,
   "id": "d699b539",
   "metadata": {},
   "outputs": [],
   "source": [
    "#Fill out Open, Low, Close and with presvious timestamp\n",
    "cols = ['Open', 'Low','High','Close','Ticker']\n",
    "df_fpt_resample.loc[:,cols] = df_fpt_resample.loc[:,cols].ffill()"
   ]
  },
  {
   "cell_type": "code",
   "execution_count": 11,
   "id": "352aee41",
   "metadata": {},
   "outputs": [
    {
     "data": {
      "text/html": [
       "<div>\n",
       "<style scoped>\n",
       "    .dataframe tbody tr th:only-of-type {\n",
       "        vertical-align: middle;\n",
       "    }\n",
       "\n",
       "    .dataframe tbody tr th {\n",
       "        vertical-align: top;\n",
       "    }\n",
       "\n",
       "    .dataframe thead th {\n",
       "        text-align: right;\n",
       "    }\n",
       "</style>\n",
       "<table border=\"1\" class=\"dataframe\">\n",
       "  <thead>\n",
       "    <tr style=\"text-align: right;\">\n",
       "      <th></th>\n",
       "      <th>Ticker</th>\n",
       "      <th>Open</th>\n",
       "      <th>High</th>\n",
       "      <th>Low</th>\n",
       "      <th>Close</th>\n",
       "      <th>Volume</th>\n",
       "      <th>Open Interest</th>\n",
       "    </tr>\n",
       "    <tr>\n",
       "      <th>Date/Time</th>\n",
       "      <th></th>\n",
       "      <th></th>\n",
       "      <th></th>\n",
       "      <th></th>\n",
       "      <th></th>\n",
       "      <th></th>\n",
       "      <th></th>\n",
       "    </tr>\n",
       "  </thead>\n",
       "  <tbody>\n",
       "    <tr>\n",
       "      <th>2018-12-25 09:15:00</th>\n",
       "      <td>FPT</td>\n",
       "      <td>30.89</td>\n",
       "      <td>30.89</td>\n",
       "      <td>30.89</td>\n",
       "      <td>30.89</td>\n",
       "      <td>35410.0</td>\n",
       "      <td>0.0</td>\n",
       "    </tr>\n",
       "    <tr>\n",
       "      <th>2018-12-25 09:16:00</th>\n",
       "      <td>FPT</td>\n",
       "      <td>30.81</td>\n",
       "      <td>30.81</td>\n",
       "      <td>30.81</td>\n",
       "      <td>30.81</td>\n",
       "      <td>190.0</td>\n",
       "      <td>0.0</td>\n",
       "    </tr>\n",
       "    <tr>\n",
       "      <th>2018-12-25 09:17:00</th>\n",
       "      <td>FPT</td>\n",
       "      <td>30.74</td>\n",
       "      <td>30.81</td>\n",
       "      <td>30.74</td>\n",
       "      <td>30.74</td>\n",
       "      <td>1120.0</td>\n",
       "      <td>0.0</td>\n",
       "    </tr>\n",
       "    <tr>\n",
       "      <th>2018-12-25 09:18:00</th>\n",
       "      <td>FPT</td>\n",
       "      <td>30.74</td>\n",
       "      <td>30.74</td>\n",
       "      <td>30.74</td>\n",
       "      <td>30.74</td>\n",
       "      <td>2120.0</td>\n",
       "      <td>0.0</td>\n",
       "    </tr>\n",
       "    <tr>\n",
       "      <th>2018-12-25 09:19:00</th>\n",
       "      <td>FPT</td>\n",
       "      <td>30.74</td>\n",
       "      <td>30.74</td>\n",
       "      <td>30.74</td>\n",
       "      <td>30.74</td>\n",
       "      <td>22500.0</td>\n",
       "      <td>0.0</td>\n",
       "    </tr>\n",
       "    <tr>\n",
       "      <th>...</th>\n",
       "      <td>...</td>\n",
       "      <td>...</td>\n",
       "      <td>...</td>\n",
       "      <td>...</td>\n",
       "      <td>...</td>\n",
       "      <td>...</td>\n",
       "      <td>...</td>\n",
       "    </tr>\n",
       "    <tr>\n",
       "      <th>2020-12-22 14:42:00</th>\n",
       "      <td>FPT</td>\n",
       "      <td>58.10</td>\n",
       "      <td>58.10</td>\n",
       "      <td>58.10</td>\n",
       "      <td>58.10</td>\n",
       "      <td>NaN</td>\n",
       "      <td>NaN</td>\n",
       "    </tr>\n",
       "    <tr>\n",
       "      <th>2020-12-22 14:43:00</th>\n",
       "      <td>FPT</td>\n",
       "      <td>58.10</td>\n",
       "      <td>58.10</td>\n",
       "      <td>58.10</td>\n",
       "      <td>58.10</td>\n",
       "      <td>NaN</td>\n",
       "      <td>NaN</td>\n",
       "    </tr>\n",
       "    <tr>\n",
       "      <th>2020-12-22 14:44:00</th>\n",
       "      <td>FPT</td>\n",
       "      <td>58.10</td>\n",
       "      <td>58.10</td>\n",
       "      <td>58.10</td>\n",
       "      <td>58.10</td>\n",
       "      <td>NaN</td>\n",
       "      <td>NaN</td>\n",
       "    </tr>\n",
       "    <tr>\n",
       "      <th>2020-12-22 14:45:00</th>\n",
       "      <td>FPT</td>\n",
       "      <td>58.10</td>\n",
       "      <td>58.10</td>\n",
       "      <td>58.10</td>\n",
       "      <td>58.10</td>\n",
       "      <td>NaN</td>\n",
       "      <td>NaN</td>\n",
       "    </tr>\n",
       "    <tr>\n",
       "      <th>2020-12-22 14:46:00</th>\n",
       "      <td>FPT</td>\n",
       "      <td>58.10</td>\n",
       "      <td>58.10</td>\n",
       "      <td>58.10</td>\n",
       "      <td>58.10</td>\n",
       "      <td>11170.0</td>\n",
       "      <td>0.0</td>\n",
       "    </tr>\n",
       "  </tbody>\n",
       "</table>\n",
       "<p>1048652 rows × 7 columns</p>\n",
       "</div>"
      ],
      "text/plain": [
       "                    Ticker   Open   High    Low  Close   Volume  Open Interest\n",
       "Date/Time                                                                     \n",
       "2018-12-25 09:15:00    FPT  30.89  30.89  30.89  30.89  35410.0            0.0\n",
       "2018-12-25 09:16:00    FPT  30.81  30.81  30.81  30.81    190.0            0.0\n",
       "2018-12-25 09:17:00    FPT  30.74  30.81  30.74  30.74   1120.0            0.0\n",
       "2018-12-25 09:18:00    FPT  30.74  30.74  30.74  30.74   2120.0            0.0\n",
       "2018-12-25 09:19:00    FPT  30.74  30.74  30.74  30.74  22500.0            0.0\n",
       "...                    ...    ...    ...    ...    ...      ...            ...\n",
       "2020-12-22 14:42:00    FPT  58.10  58.10  58.10  58.10      NaN            NaN\n",
       "2020-12-22 14:43:00    FPT  58.10  58.10  58.10  58.10      NaN            NaN\n",
       "2020-12-22 14:44:00    FPT  58.10  58.10  58.10  58.10      NaN            NaN\n",
       "2020-12-22 14:45:00    FPT  58.10  58.10  58.10  58.10      NaN            NaN\n",
       "2020-12-22 14:46:00    FPT  58.10  58.10  58.10  58.10  11170.0            0.0\n",
       "\n",
       "[1048652 rows x 7 columns]"
      ]
     },
     "execution_count": 11,
     "metadata": {},
     "output_type": "execute_result"
    }
   ],
   "source": [
    "#Check empty rows\n",
    "df_fpt_resample"
   ]
  },
  {
   "cell_type": "code",
   "execution_count": 12,
   "id": "131e43a6",
   "metadata": {},
   "outputs": [],
   "source": [
    "#Fill Volume and Open Interest with 0s since there is no trade happening \n",
    "df_fpt_resample['Volume'] = df_fpt_resample['Volume'].fillna(0)\n",
    "df_fpt_resample['Open Interest'] = df_fpt_resample['Open Interest'].fillna(0)"
   ]
  },
  {
   "cell_type": "code",
   "execution_count": 13,
   "id": "66e81649",
   "metadata": {},
   "outputs": [
    {
     "data": {
      "text/plain": [
       "Ticker           0\n",
       "Open             0\n",
       "High             0\n",
       "Low              0\n",
       "Close            0\n",
       "Volume           0\n",
       "Open Interest    0\n",
       "dtype: int64"
      ]
     },
     "execution_count": 13,
     "metadata": {},
     "output_type": "execute_result"
    }
   ],
   "source": [
    "#Check NaN values\n",
    "df_fpt_resample.isna().sum()"
   ]
  },
  {
   "cell_type": "markdown",
   "id": "5b56b359",
   "metadata": {},
   "source": [
    "## Build Model"
   ]
  },
  {
   "cell_type": "code",
   "execution_count": 14,
   "id": "72d0f2b4",
   "metadata": {},
   "outputs": [
    {
     "data": {
      "text/plain": [
       "838922"
      ]
     },
     "execution_count": 14,
     "metadata": {},
     "output_type": "execute_result"
    }
   ],
   "source": [
    "#Create a new datafrane with Close\n",
    "data_fpt = df_fpt_resample.filter(['Close'])\n",
    "#Convert the dataframe to a numpy array\n",
    "dataset_fpt = data_fpt.values\n",
    "#Get number of rows for train data\n",
    "training_data_fpt_len = math.ceil(len(dataset_fpt) * .8)\n",
    "training_data_fpt_len"
   ]
  },
  {
   "cell_type": "code",
   "execution_count": 15,
   "id": "53fc409c",
   "metadata": {},
   "outputs": [
    {
     "data": {
      "text/plain": [
       "array([[0.02273535],\n",
       "       [0.01989343],\n",
       "       [0.01740675],\n",
       "       ...,\n",
       "       [0.98934281],\n",
       "       [0.98934281],\n",
       "       [0.98934281]])"
      ]
     },
     "execution_count": 15,
     "metadata": {},
     "output_type": "execute_result"
    }
   ],
   "source": [
    "#Scale the data\n",
    "scaler = MinMaxScaler(feature_range = (0,1))\n",
    "scaled_data = scaler.fit_transform(dataset_fpt)\n",
    "scaled_data"
   ]
  },
  {
   "cell_type": "code",
   "execution_count": 16,
   "id": "960796d3",
   "metadata": {},
   "outputs": [],
   "source": [
    "#Create training data set\n",
    "train_data_fpt = scaled_data[0:training_data_fpt_len , :]\n",
    "#Split the data into x_train and y_train\n",
    "x_train_fpt = []\n",
    "y_train_fpt = []\n",
    "\n",
    "for i in range ( 60 , len(train_data_fpt)):\n",
    "    x_train_fpt.append(train_data_fpt[i-60:i,0])\n",
    "    y_train_fpt.append(train_data_fpt[i,0])"
   ]
  },
  {
   "cell_type": "code",
   "execution_count": 17,
   "id": "df46e1b5",
   "metadata": {},
   "outputs": [],
   "source": [
    "#Convert the x_train and y_train to numpy arrays\n",
    "x_train_fpt, y_train_fpt = np.array(x_train_fpt),np.array(y_train_fpt)"
   ]
  },
  {
   "cell_type": "code",
   "execution_count": 18,
   "id": "2b65563f",
   "metadata": {},
   "outputs": [
    {
     "data": {
      "text/plain": [
       "(838862, 60, 1)"
      ]
     },
     "execution_count": 18,
     "metadata": {},
     "output_type": "execute_result"
    }
   ],
   "source": [
    "#Reshape the x_train data\n",
    "x_train_fpt = np.reshape(x_train_fpt,(x_train_fpt.shape[0],x_train_fpt.shape[1],1))\n",
    "x_train_fpt.shape"
   ]
  },
  {
   "cell_type": "code",
   "execution_count": 19,
   "id": "d2b3643b",
   "metadata": {},
   "outputs": [],
   "source": [
    "#Build the LSTM model\n",
    "model_fpt = Sequential()\n",
    "model_fpt.add(LSTM(50, return_sequences = True, input_shape = (x_train_fpt.shape[1],1)))\n",
    "model_fpt.add(LSTM(50, return_sequences = False))\n",
    "model_fpt.add(Dense(25))\n",
    "model_fpt.add(Dense(1))"
   ]
  },
  {
   "cell_type": "code",
   "execution_count": 20,
   "id": "908710f4",
   "metadata": {},
   "outputs": [],
   "source": [
    "#Compile model\n",
    "model_fpt.compile(optimizer = 'adam', loss = 'mean_squared_error')"
   ]
  },
  {
   "cell_type": "code",
   "execution_count": 21,
   "id": "760a663a",
   "metadata": {},
   "outputs": [
    {
     "name": "stdout",
     "output_type": "stream",
     "text": [
      "Epoch 1/2\n",
      "4195/4195 [==============================] - 58s 13ms/step - loss: 2.7631e-04\n",
      "Epoch 2/2\n",
      "4195/4195 [==============================] - 54s 13ms/step - loss: 5.5750e-06 0s - loss: 5.5839e\n"
     ]
    },
    {
     "data": {
      "text/plain": [
       "<keras.callbacks.History at 0x2581dfb1ac0>"
      ]
     },
     "execution_count": 21,
     "metadata": {},
     "output_type": "execute_result"
    }
   ],
   "source": [
    "#Train the model\n",
    "model_fpt.fit(x_train_fpt, y_train_fpt, batch_size = 200, epochs =2)"
   ]
  },
  {
   "cell_type": "code",
   "execution_count": 22,
   "id": "8eee971c",
   "metadata": {},
   "outputs": [],
   "source": [
    "#Create testing data set\n",
    "test_data_fpt = scaled_data[training_data_fpt_len - 60: , :]\n",
    "#Create x_test and y_test\n",
    "x_test_fpt = []\n",
    "y_test_fpt = dataset_fpt[training_data_fpt_len: , :]\n",
    "for i in range (60, len(test_data_fpt)):\n",
    "    x_test_fpt.append(test_data_fpt[i-60:i ,0])"
   ]
  },
  {
   "cell_type": "code",
   "execution_count": 23,
   "id": "f5f9e5d5",
   "metadata": {},
   "outputs": [
    {
     "data": {
      "text/plain": [
       "(209730, 60)"
      ]
     },
     "execution_count": 23,
     "metadata": {},
     "output_type": "execute_result"
    }
   ],
   "source": [
    "#Convert data to a numpy array\n",
    "x_test_fpt = np.array(x_test_fpt)\n",
    "x_test_fpt.shape"
   ]
  },
  {
   "cell_type": "code",
   "execution_count": 24,
   "id": "04cd9ce5",
   "metadata": {},
   "outputs": [
    {
     "data": {
      "text/plain": [
       "(209730, 60, 1)"
      ]
     },
     "execution_count": 24,
     "metadata": {},
     "output_type": "execute_result"
    }
   ],
   "source": [
    "#Reshape the data\n",
    "x_test_fpt = np.reshape(x_test_fpt, (x_test_fpt.shape[0],x_test_fpt.shape[1],1))\n",
    "x_test_fpt.shape"
   ]
  },
  {
   "cell_type": "code",
   "execution_count": 25,
   "id": "5445fa44",
   "metadata": {},
   "outputs": [],
   "source": [
    "#Get the models prediction\n",
    "predictions_fpt = model_fpt.predict(x_test_fpt)\n",
    "predictions_fpt = scaler.inverse_transform(predictions_fpt)"
   ]
  },
  {
   "cell_type": "code",
   "execution_count": 26,
   "id": "9b7c7c6c",
   "metadata": {},
   "outputs": [
    {
     "name": "stdout",
     "output_type": "stream",
     "text": [
      "R2_fpt Score:  0.9989825449807165\n",
      "RMSE_fpt score: 0.09494840161867339\n"
     ]
    }
   ],
   "source": [
    "#Evaluate the model \n",
    "#Get RMSE\n",
    "rmse = np.sqrt(np.mean(predictions_fpt - y_test_fpt)**2)\n",
    "print('R2_fpt Score: ',r2_score(y_test_fpt, predictions_fpt))\n",
    "print('RMSE_fpt score:',rmse)"
   ]
  },
  {
   "cell_type": "code",
   "execution_count": 27,
   "id": "b3007115",
   "metadata": {},
   "outputs": [
    {
     "name": "stderr",
     "output_type": "stream",
     "text": [
      "C:\\Users\\KHOIDU~1\\AppData\\Local\\Temp/ipykernel_860/986472847.py:4: SettingWithCopyWarning: \n",
      "A value is trying to be set on a copy of a slice from a DataFrame.\n",
      "Try using .loc[row_indexer,col_indexer] = value instead\n",
      "\n",
      "See the caveats in the documentation: https://pandas.pydata.org/pandas-docs/stable/user_guide/indexing.html#returning-a-view-versus-a-copy\n",
      "  valid['Predictions'] = predictions_fpt\n"
     ]
    },
    {
     "data": {
      "text/plain": [
       "<function matplotlib.pyplot.show(close=None, block=None)>"
      ]
     },
     "execution_count": 27,
     "metadata": {},
     "output_type": "execute_result"
    },
    {
     "data": {
      "image/png": "[encoded data removed]",
      "text/plain": [
       "<Figure size 2160x720 with 1 Axes>"
      ]
     },
     "metadata": {
      "needs_background": "light"
     },
     "output_type": "display_data"
    }
   ],
   "source": [
    "#Plot the data \n",
    "train = data_fpt[:training_data_fpt_len]\n",
    "valid = data_fpt[training_data_fpt_len:]\n",
    "valid['Predictions'] = predictions_fpt\n",
    "#Visualize the data\n",
    "plt.figure(figsize = (30,10))\n",
    "plt.title('Model')\n",
    "plt.xlabel('Date')\n",
    "plt.ylabel('Close Price')\n",
    "plt.plot(train['Close'])\n",
    "plt.plot(valid[['Close','Predictions']])\n",
    "plt.legend(['Train' , 'Val', 'Predictions'], loc = 'lower right')\n",
    "plt.show"
   ]
  },
  {
   "cell_type": "code",
   "execution_count": 63,
   "id": "2c3ada67",
   "metadata": {},
   "outputs": [],
   "source": [
    "def sliding_window(dataset,time):\n",
    "    \n",
    "    len_dataset=len(dataset)\n",
    "    \n",
    "    #Create a future input from test data with only 60 latest input\n",
    "    future_inp  = dataset[(len_dataset-60):]\n",
    "    \n",
    "    #Create a temporary input from future input\n",
    "    tmp_inp = list(future_inp)\n",
    "    \n",
    "    #Creating list of the last 60 data\n",
    "    tmp_inp = tmp_inp[0].tolist()\n",
    "    \n",
    "    #Predicting next 30 days price suing the current data\n",
    "    #It will predict in sliding window manner (algorithm) with stride 1\n",
    "    lst_output=[]\n",
    "    n_steps=60\n",
    "    i=0\n",
    "    while(i<time):\n",
    "    \n",
    "        if(len(tmp_inp)>60):\n",
    "            future_inp = np.array(tmp_inp[1:])\n",
    "            future_inp=future_inp.reshape(1,-1)\n",
    "            future_inp = future_inp.reshape((1, n_steps, 1))\n",
    "            yhat = model_fpt.predict(future_inp, verbose=0)\n",
    "            tmp_inp.extend(yhat[0].tolist())\n",
    "            tmp_inp = tmp_inp[1:]\n",
    "            lst_output.extend(yhat.tolist())\n",
    "            i=i+1\n",
    "        else:\n",
    "            future_inp = future_inp.reshape((1, n_steps,1))\n",
    "            yhat = model_fpt.predict(future_inp, verbose=0)\n",
    "            tmp_inp.extend(yhat[0].tolist())\n",
    "            lst_output.extend(yhat.tolist())\n",
    "            i=i+1\n",
    "    lst_output = scaler.inverse_transform(lst_output)\n",
    "    print(\"The change in stock price after\", time,\"minutes is:\",lst_output[-1]-scaler.inverse_transform(dataset)[-1])"
   ]
  },
  {
   "cell_type": "code",
   "execution_count": 67,
   "id": "178407dc",
   "metadata": {},
   "outputs": [
    {
     "name": "stdout",
     "output_type": "stream",
     "text": [
      "The change in stock price after 10080 minutes is: [-28.54309579]\n"
     ]
    }
   ],
   "source": [
    "sliding_window(test_data_fpt,10080)"
   ]
  },
  {
   "cell_type": "code",
   "execution_count": null,
   "id": "8c0ba5e9",
   "metadata": {},
   "outputs": [],
   "source": []
  },
  {
   "cell_type": "code",
   "execution_count": null,
   "id": "886586ff",
   "metadata": {},
   "outputs": [],
   "source": []
  },
  {
   "cell_type": "code",
   "execution_count": null,
   "id": "c265eb07",
   "metadata": {},
   "outputs": [],
   "source": []
  }
 ],
 "metadata": {
  "kernelspec": {
   "display_name": "Python 3 (ipykernel)",
   "language": "python",
   "name": "python3"
  },
  "language_info": {
   "codemirror_mode": {
    "name": "ipython",
    "version": 3
   },
   "file_extension": ".py",
   "mimetype": "text/x-python",
   "name": "python",
   "nbconvert_exporter": "python",
   "pygments_lexer": "ipython3",
   "version": "3.9.9"
  }
 },
 "nbformat": 4,
 "nbformat_minor": 5
}
